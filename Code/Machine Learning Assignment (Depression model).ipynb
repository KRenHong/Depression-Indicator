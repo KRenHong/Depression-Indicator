{
 "cells": [
  {
   "cell_type": "markdown",
   "id": "cc734a32",
   "metadata": {},
   "source": [
    "# Import needed module"
   ]
  },
  {
   "cell_type": "code",
   "execution_count": 2,
   "id": "68a46bf0",
   "metadata": {},
   "outputs": [
    {
     "name": "stderr",
     "output_type": "stream",
     "text": [
      "[nltk_data] Downloading package stopwords to\n",
      "[nltk_data]     C:\\Users\\user\\AppData\\Roaming\\nltk_data...\n",
      "[nltk_data]   Package stopwords is already up-to-date!\n",
      "[nltk_data] Downloading package punkt to\n",
      "[nltk_data]     C:\\Users\\user\\AppData\\Roaming\\nltk_data...\n",
      "[nltk_data]   Package punkt is already up-to-date!\n"
     ]
    }
   ],
   "source": [
    "import warnings\n",
    "warnings.filterwarnings('ignore')\n",
    "import pandas as pd\n",
    "import numpy as np\n",
    "import matplotlib.pyplot as plt\n",
    "import seaborn as sns\n",
    "from wordcloud import WordCloud\n",
    "from tensorflow.keras.preprocessing.sequence import pad_sequences\n",
    "from keras.preprocessing.text import Tokenizer\n",
    "import tensorflow as tf\n",
    "from tensorflow.keras.models import Sequential\n",
    "from tensorflow.keras.layers import Embedding, Flatten, Dense, Dropout, SpatialDropout1D, LSTM\n",
    "import nltk as nltk\n",
    "nltk.download('stopwords')\n",
    "from nltk.corpus import stopwords\n",
    "nltk.download('punkt') \n",
    "from nltk.tokenize import RegexpTokenizer"
   ]
  },
  {
   "cell_type": "markdown",
   "id": "0afc0ac5",
   "metadata": {},
   "source": [
    "# Read csv file"
   ]
  },
  {
   "cell_type": "code",
   "execution_count": 3,
   "id": "dcbba526",
   "metadata": {
    "scrolled": true
   },
   "outputs": [
    {
     "data": {
      "text/html": [
       "<div>\n",
       "<style scoped>\n",
       "    .dataframe tbody tr th:only-of-type {\n",
       "        vertical-align: middle;\n",
       "    }\n",
       "\n",
       "    .dataframe tbody tr th {\n",
       "        vertical-align: top;\n",
       "    }\n",
       "\n",
       "    .dataframe thead th {\n",
       "        text-align: right;\n",
       "    }\n",
       "</style>\n",
       "<table border=\"1\" class=\"dataframe\">\n",
       "  <thead>\n",
       "    <tr style=\"text-align: right;\">\n",
       "      <th></th>\n",
       "      <th>Unnamed: 0</th>\n",
       "      <th>text</th>\n",
       "      <th>class</th>\n",
       "    </tr>\n",
       "  </thead>\n",
       "  <tbody>\n",
       "    <tr>\n",
       "      <th>0</th>\n",
       "      <td>2</td>\n",
       "      <td>Ex Wife Threatening SuicideRecently I left my ...</td>\n",
       "      <td>suicide</td>\n",
       "    </tr>\n",
       "    <tr>\n",
       "      <th>1</th>\n",
       "      <td>3</td>\n",
       "      <td>Am I weird I don't get affected by compliments...</td>\n",
       "      <td>non-suicide</td>\n",
       "    </tr>\n",
       "    <tr>\n",
       "      <th>2</th>\n",
       "      <td>4</td>\n",
       "      <td>Finally 2020 is almost over... So I can never ...</td>\n",
       "      <td>non-suicide</td>\n",
       "    </tr>\n",
       "    <tr>\n",
       "      <th>3</th>\n",
       "      <td>8</td>\n",
       "      <td>i need helpjust help me im crying so hard</td>\n",
       "      <td>suicide</td>\n",
       "    </tr>\n",
       "    <tr>\n",
       "      <th>4</th>\n",
       "      <td>9</td>\n",
       "      <td>Iâm so lostHello, my name is Adam (16) and I...</td>\n",
       "      <td>suicide</td>\n",
       "    </tr>\n",
       "    <tr>\n",
       "      <th>5</th>\n",
       "      <td>11</td>\n",
       "      <td>Honetly idkI dont know what im even doing here...</td>\n",
       "      <td>suicide</td>\n",
       "    </tr>\n",
       "    <tr>\n",
       "      <th>6</th>\n",
       "      <td>12</td>\n",
       "      <td>[Trigger warning] Excuse for self inflicted bu...</td>\n",
       "      <td>suicide</td>\n",
       "    </tr>\n",
       "    <tr>\n",
       "      <th>7</th>\n",
       "      <td>13</td>\n",
       "      <td>It ends tonight.I canât do it anymore. \\nI q...</td>\n",
       "      <td>suicide</td>\n",
       "    </tr>\n",
       "    <tr>\n",
       "      <th>8</th>\n",
       "      <td>16</td>\n",
       "      <td>Everyone wants to be \"edgy\" and it's making me...</td>\n",
       "      <td>non-suicide</td>\n",
       "    </tr>\n",
       "    <tr>\n",
       "      <th>9</th>\n",
       "      <td>18</td>\n",
       "      <td>My life is over at 20 years oldHello all. I am...</td>\n",
       "      <td>suicide</td>\n",
       "    </tr>\n",
       "  </tbody>\n",
       "</table>\n",
       "</div>"
      ],
      "text/plain": [
       "   Unnamed: 0                                               text        class\n",
       "0           2  Ex Wife Threatening SuicideRecently I left my ...      suicide\n",
       "1           3  Am I weird I don't get affected by compliments...  non-suicide\n",
       "2           4  Finally 2020 is almost over... So I can never ...  non-suicide\n",
       "3           8          i need helpjust help me im crying so hard      suicide\n",
       "4           9  Iâm so lostHello, my name is Adam (16) and I...      suicide\n",
       "5          11  Honetly idkI dont know what im even doing here...      suicide\n",
       "6          12  [Trigger warning] Excuse for self inflicted bu...      suicide\n",
       "7          13  It ends tonight.I canât do it anymore. \\nI q...      suicide\n",
       "8          16  Everyone wants to be \"edgy\" and it's making me...  non-suicide\n",
       "9          18  My life is over at 20 years oldHello all. I am...      suicide"
      ]
     },
     "execution_count": 3,
     "metadata": {},
     "output_type": "execute_result"
    }
   ],
   "source": [
    "#Read csv file by implementing pandas\n",
    "df = pd.read_csv(r'C:\\Users\\user\\Documents\\WIA1006 Machine Learning\\(A) machine learning model\\Suicide_Detection_2.csv',encoding='latin1')\n",
    "\n",
    "#Display the top 10 rows of the dataset\n",
    "df.head(10)\n"
   ]
  },
  {
   "cell_type": "markdown",
   "id": "6920c917",
   "metadata": {},
   "source": [
    "# Implement Lambda "
   ]
  },
  {
   "cell_type": "code",
   "execution_count": 4,
   "id": "9dc2a906",
   "metadata": {
    "scrolled": true
   },
   "outputs": [],
   "source": [
    "#Sentiments column is read \n",
    "#Create a new column (class)\n",
    "#Class column is inserted with value of 0 or 1 by using lambda\n",
    "#0 is represent suicide and 1 is represent non-suicide in sentiments column\n",
    "\n",
    "df['sentiments'] = df['class'].apply(lambda x: 1 if x in ['suicide'] else 0)"
   ]
  },
  {
   "cell_type": "code",
   "execution_count": 5,
   "id": "bc58c75c",
   "metadata": {
    "scrolled": false
   },
   "outputs": [
    {
     "data": {
      "text/html": [
       "<div>\n",
       "<style scoped>\n",
       "    .dataframe tbody tr th:only-of-type {\n",
       "        vertical-align: middle;\n",
       "    }\n",
       "\n",
       "    .dataframe tbody tr th {\n",
       "        vertical-align: top;\n",
       "    }\n",
       "\n",
       "    .dataframe thead th {\n",
       "        text-align: right;\n",
       "    }\n",
       "</style>\n",
       "<table border=\"1\" class=\"dataframe\">\n",
       "  <thead>\n",
       "    <tr style=\"text-align: right;\">\n",
       "      <th></th>\n",
       "      <th>Unnamed: 0</th>\n",
       "      <th>text</th>\n",
       "      <th>class</th>\n",
       "      <th>sentiments</th>\n",
       "    </tr>\n",
       "  </thead>\n",
       "  <tbody>\n",
       "    <tr>\n",
       "      <th>0</th>\n",
       "      <td>2</td>\n",
       "      <td>Ex Wife Threatening SuicideRecently I left my ...</td>\n",
       "      <td>suicide</td>\n",
       "      <td>1</td>\n",
       "    </tr>\n",
       "    <tr>\n",
       "      <th>1</th>\n",
       "      <td>3</td>\n",
       "      <td>Am I weird I don't get affected by compliments...</td>\n",
       "      <td>non-suicide</td>\n",
       "      <td>0</td>\n",
       "    </tr>\n",
       "    <tr>\n",
       "      <th>2</th>\n",
       "      <td>4</td>\n",
       "      <td>Finally 2020 is almost over... So I can never ...</td>\n",
       "      <td>non-suicide</td>\n",
       "      <td>0</td>\n",
       "    </tr>\n",
       "    <tr>\n",
       "      <th>3</th>\n",
       "      <td>8</td>\n",
       "      <td>i need helpjust help me im crying so hard</td>\n",
       "      <td>suicide</td>\n",
       "      <td>1</td>\n",
       "    </tr>\n",
       "    <tr>\n",
       "      <th>4</th>\n",
       "      <td>9</td>\n",
       "      <td>Iâm so lostHello, my name is Adam (16) and I...</td>\n",
       "      <td>suicide</td>\n",
       "      <td>1</td>\n",
       "    </tr>\n",
       "    <tr>\n",
       "      <th>5</th>\n",
       "      <td>11</td>\n",
       "      <td>Honetly idkI dont know what im even doing here...</td>\n",
       "      <td>suicide</td>\n",
       "      <td>1</td>\n",
       "    </tr>\n",
       "    <tr>\n",
       "      <th>6</th>\n",
       "      <td>12</td>\n",
       "      <td>[Trigger warning] Excuse for self inflicted bu...</td>\n",
       "      <td>suicide</td>\n",
       "      <td>1</td>\n",
       "    </tr>\n",
       "    <tr>\n",
       "      <th>7</th>\n",
       "      <td>13</td>\n",
       "      <td>It ends tonight.I canât do it anymore. \\nI q...</td>\n",
       "      <td>suicide</td>\n",
       "      <td>1</td>\n",
       "    </tr>\n",
       "    <tr>\n",
       "      <th>8</th>\n",
       "      <td>16</td>\n",
       "      <td>Everyone wants to be \"edgy\" and it's making me...</td>\n",
       "      <td>non-suicide</td>\n",
       "      <td>0</td>\n",
       "    </tr>\n",
       "    <tr>\n",
       "      <th>9</th>\n",
       "      <td>18</td>\n",
       "      <td>My life is over at 20 years oldHello all. I am...</td>\n",
       "      <td>suicide</td>\n",
       "      <td>1</td>\n",
       "    </tr>\n",
       "  </tbody>\n",
       "</table>\n",
       "</div>"
      ],
      "text/plain": [
       "   Unnamed: 0                                               text        class  \\\n",
       "0           2  Ex Wife Threatening SuicideRecently I left my ...      suicide   \n",
       "1           3  Am I weird I don't get affected by compliments...  non-suicide   \n",
       "2           4  Finally 2020 is almost over... So I can never ...  non-suicide   \n",
       "3           8          i need helpjust help me im crying so hard      suicide   \n",
       "4           9  Iâm so lostHello, my name is Adam (16) and I...      suicide   \n",
       "5          11  Honetly idkI dont know what im even doing here...      suicide   \n",
       "6          12  [Trigger warning] Excuse for self inflicted bu...      suicide   \n",
       "7          13  It ends tonight.I canât do it anymore. \\nI q...      suicide   \n",
       "8          16  Everyone wants to be \"edgy\" and it's making me...  non-suicide   \n",
       "9          18  My life is over at 20 years oldHello all. I am...      suicide   \n",
       "\n",
       "   sentiments  \n",
       "0           1  \n",
       "1           0  \n",
       "2           0  \n",
       "3           1  \n",
       "4           1  \n",
       "5           1  \n",
       "6           1  \n",
       "7           1  \n",
       "8           0  \n",
       "9           1  "
      ]
     },
     "execution_count": 5,
     "metadata": {},
     "output_type": "execute_result"
    }
   ],
   "source": [
    "df.head(10)"
   ]
  },
  {
   "cell_type": "markdown",
   "id": "6e6fdd87",
   "metadata": {},
   "source": [
    "# Removing stop words with NLTK "
   ]
  },
  {
   "cell_type": "code",
   "execution_count": 6,
   "id": "1571bd18",
   "metadata": {},
   "outputs": [],
   "source": [
    "##############################################\n",
    "## Making labels array ##\n",
    "\n",
    "labels = []\n",
    "\n",
    "for label in df['sentiments']:\n",
    "  labels.append(label)\n",
    "\n",
    "# print(labels)"
   ]
  },
  {
   "cell_type": "code",
   "execution_count": 7,
   "id": "a8691c2e",
   "metadata": {},
   "outputs": [],
   "source": [
    "############################################\n",
    "## Making corresponding text array ##\n",
    "\n",
    "tempText = []\n",
    "\n",
    "for msg in df['text']:\n",
    "  tempText.append(msg)\n",
    "\n",
    "#print(temp1)"
   ]
  },
  {
   "cell_type": "code",
   "execution_count": 8,
   "id": "a7e19dc4",
   "metadata": {},
   "outputs": [],
   "source": [
    "###############################################\n",
    "# Function to convert   \n",
    "def listToString(s):  \n",
    "    \n",
    "    # initialize an empty string \n",
    "    str1 = \" \" \n",
    "    \n",
    "    # return string   \n",
    "    return (str1.join(s)) "
   ]
  },
  {
   "cell_type": "code",
   "execution_count": 9,
   "id": "738b72ea",
   "metadata": {},
   "outputs": [
    {
     "name": "stdout",
     "output_type": "stream",
     "text": [
      "['Ex Wife Threatening SuicideRecently I left wife good cheated twice lied much I decided refuse go back As days ago began threatening suicide I tirelessly spent paat days talking keeps hesitating wants believe I come back I know lot people threaten order get way happens really What I I supposed handle death hands I still love wife I cannot deal getting cheated constantly feeling insecure I worried today may day I hope much happen']\n"
     ]
    }
   ],
   "source": [
    "############################################################\n",
    "\n",
    "### Removing stopwords and punctuations ###\n",
    "stop_words = set(stopwords.words('english')) \n",
    "\n",
    "text = []\n",
    "\n",
    "for i, msg in enumerate(tempText):\n",
    "    tokenizer = RegexpTokenizer(r'\\w+')\n",
    "    word_tokens = tokenizer.tokenize(msg) \n",
    "\n",
    "    filtered_sentence = [] \n",
    "    \n",
    "    for w in word_tokens: \n",
    "      if w not in stop_words: \n",
    "          filtered_sentence.append(w) \n",
    "    \n",
    "    text.append(listToString(filtered_sentence))\n",
    "\n",
    "print(text[0:1])"
   ]
  },
  {
   "cell_type": "markdown",
   "id": "3184df76",
   "metadata": {},
   "source": [
    "# Plotting Histogram"
   ]
  },
  {
   "cell_type": "code",
   "execution_count": 10,
   "id": "a924aca0",
   "metadata": {
    "scrolled": true
   },
   "outputs": [
    {
     "data": {
      "image/png": "[encoded data removed]",
      "text/plain": [
       "<Figure size 432x288 with 1 Axes>"
      ]
     },
     "metadata": {},
     "output_type": "display_data"
    }
   ],
   "source": [
    "import matplotlib.pyplot as plt\n",
    "import seaborn as sns\n",
    "\n",
    "#We take top 10 rows to plot our bar chart due to the dataset too large\n",
    "sns.set()\n",
    "x = ['Suicide','Non-suicide']\n",
    "y = [7,3]\n",
    "plt.bar(x, y)\n",
    "plt.xlabel('Category')\n",
    "plt.ylabel('Number of death')\n",
    "plt.show()"
   ]
  },
  {
   "cell_type": "markdown",
   "id": "cb187967",
   "metadata": {},
   "source": [
    "# Implement tokenizer "
   ]
  },
  {
   "cell_type": "code",
   "execution_count": 11,
   "id": "fe1c67f4",
   "metadata": {},
   "outputs": [],
   "source": [
    "tokenizer = Tokenizer(oov_token=\"<OOV>\")"
   ]
  },
  {
   "cell_type": "code",
   "execution_count": 12,
   "id": "d4cab362",
   "metadata": {},
   "outputs": [],
   "source": [
    "#Split the dataset into training set & test set\n",
    "#Training set (80%)\n",
    "#Test set (10%)\n",
    "#Validation set (10%)\n",
    "\n",
    "split = round(len(df)*0.8)\n",
    "\n",
    "split_2 = round(len(df)*0.9)\n",
    "\n",
    "train_text = text[:split]     \n",
    "\n",
    "train_label = labels[:split]\n",
    "\n",
    "test_text = text[split:split_2] \n",
    "\n",
    "test_label = labels[split:split_2]\n",
    "\n",
    "validation_text = text[split_2:]\n",
    "\n",
    "validation_label = labels[split_2:]"
   ]
  },
  {
   "cell_type": "markdown",
   "id": "c8c118bd",
   "metadata": {},
   "source": [
    "# Initiate lists"
   ]
  },
  {
   "cell_type": "code",
   "execution_count": 13,
   "id": "50fdf5be",
   "metadata": {},
   "outputs": [],
   "source": [
    "#Assign the sentiment into different list\n",
    "\n",
    "import numpy as np\n",
    "training_sentences = []\n",
    "\n",
    "training_labels = []\n",
    "\n",
    "testing_sentences = []\n",
    "\n",
    "testing_labels = []\n",
    "\n",
    "validation_sentences = []\n",
    "\n",
    "validation_labels = []\n",
    "\n",
    "for row in train_text:\n",
    "    training_sentences.append(str(row))\n",
    "    \n",
    "for row in train_label:\n",
    "    training_labels.append(row)\n",
    "    \n",
    "for row in test_text:\n",
    "    testing_sentences.append(str(row))\n",
    "    \n",
    "for row in test_label:\n",
    "    testing_labels.append(row)\n",
    "    \n",
    "for row in validation_text:\n",
    "    validation_sentences.append(str(row))\n",
    "    \n",
    "for row in validation_label:\n",
    "    validation_labels.append(row)"
   ]
  },
  {
   "cell_type": "markdown",
   "id": "90f85650",
   "metadata": {},
   "source": [
    "# Tokenization"
   ]
  },
  {
   "cell_type": "code",
   "execution_count": 14,
   "id": "71471c2d",
   "metadata": {},
   "outputs": [],
   "source": [
    "vocab_size = 40000\n",
    "\n",
    "embedding_dim = 16\n",
    "\n",
    "max_length = 120\n",
    "\n",
    "trunc_type = 'post'\n",
    "\n",
    "oov_tok = '<OOV>'\n",
    "\n",
    "padding_type = 'post'"
   ]
  },
  {
   "cell_type": "code",
   "execution_count": 15,
   "id": "0dfed68a",
   "metadata": {},
   "outputs": [],
   "source": [
    "tokenizer = Tokenizer(num_words=vocab_size, oov_token=oov_tok)\n",
    "\n",
    "tokenizer.fit_on_texts(training_sentences)\n",
    "\n",
    "word_index = tokenizer.word_index"
   ]
  },
  {
   "cell_type": "markdown",
   "id": "40562527",
   "metadata": {},
   "source": [
    "# Save Tokenizer"
   ]
  },
  {
   "cell_type": "code",
   "execution_count": 81,
   "id": "fd1a3cec",
   "metadata": {},
   "outputs": [],
   "source": [
    "import pickle\n",
    "\n",
    "# saving\n",
    "with open('tokenizer.pickle', 'wb') as handle:\n",
    "    pickle.dump(tokenizer, handle, protocol=pickle.HIGHEST_PROTOCOL)"
   ]
  },
  {
   "cell_type": "code",
   "execution_count": 16,
   "id": "d3241b30",
   "metadata": {},
   "outputs": [],
   "source": [
    "#Convert the training_sentences into sequence\n",
    "sequences = tokenizer.texts_to_sequences(training_sentences)\n",
    "\n",
    "#Pad the sequences\n",
    "padded = pad_sequences(sequences, maxlen=max_length, truncating=trunc_type)\n",
    "\n",
    "#Convert the testing_sentences into sequence\n",
    "testing_sentences = tokenizer.texts_to_sequences(testing_sentences)\n",
    "\n",
    "#Pad the testing_sentences\n",
    "testing_padded = pad_sequences(testing_sentences, maxlen=max_length)\n",
    "\n",
    "#Convert the validation_sentences into sequence\n",
    "validation_sentences = tokenizer.texts_to_sequences(validation_sentences)\n",
    "\n",
    "#Pad the validation_sentences\n",
    "validation_padded = pad_sequences(validation_sentences, maxlen=max_length)"
   ]
  },
  {
   "cell_type": "markdown",
   "id": "2ef9ab20",
   "metadata": {},
   "source": [
    "# Create model"
   ]
  },
  {
   "cell_type": "code",
   "execution_count": 26,
   "id": "5836ceaa",
   "metadata": {},
   "outputs": [],
   "source": [
    "#Using keras in Tensorflow to create our model\n",
    "#We set 8 hidden layers and 1 output layer\n",
    "\n",
    "model = tf.keras.Sequential([\n",
    "    tf.keras.layers.Embedding(vocab_size, embedding_dim,input_length=max_length),\n",
    "    tf.keras.layers.GlobalAveragePooling1D(),\n",
    "    tf.keras.layers.Dense(8, activation='relu'),\n",
    "    tf.keras.layers.Dense(1, activation='sigmoid')\n",
    "])"
   ]
  },
  {
   "cell_type": "code",
   "execution_count": 27,
   "id": "6392991e",
   "metadata": {},
   "outputs": [],
   "source": [
    "model.compile(loss='binary_crossentropy', optimizer='adam', metrics=['accuracy'])"
   ]
  },
  {
   "cell_type": "code",
   "execution_count": 28,
   "id": "4cdb79c2",
   "metadata": {},
   "outputs": [
    {
     "name": "stdout",
     "output_type": "stream",
     "text": [
      "Model: \"sequential_2\"\n",
      "_________________________________________________________________\n",
      " Layer (type)                Output Shape              Param #   \n",
      "=================================================================\n",
      " embedding_2 (Embedding)     (None, 120, 16)           640000    \n",
      "                                                                 \n",
      " global_average_pooling1d_2   (None, 16)               0         \n",
      " (GlobalAveragePooling1D)                                        \n",
      "                                                                 \n",
      " dense_4 (Dense)             (None, 8)                 136       \n",
      "                                                                 \n",
      " dense_5 (Dense)             (None, 1)                 9         \n",
      "                                                                 \n",
      "=================================================================\n",
      "Total params: 640,145\n",
      "Trainable params: 640,145\n",
      "Non-trainable params: 0\n",
      "_________________________________________________________________\n"
     ]
    }
   ],
   "source": [
    "#Display summary of the model\n",
    "\n",
    "model.summary()"
   ]
  },
  {
   "cell_type": "code",
   "execution_count": 29,
   "id": "04e3d0ff",
   "metadata": {},
   "outputs": [],
   "source": [
    "#Assign the elements training_labels & testing_labels into training_labels_final & testing_labels_final\n",
    "\n",
    "training_labels_final = np.array(training_labels)\n",
    "\n",
    "testing_labels_final = np.array(testing_labels)\n",
    "\n",
    "validation_labels_final = np.array(validation_labels)"
   ]
  },
  {
   "cell_type": "markdown",
   "id": "c2703d0d",
   "metadata": {},
   "source": [
    "# Training model"
   ]
  },
  {
   "cell_type": "code",
   "execution_count": 30,
   "id": "640596d5",
   "metadata": {
    "scrolled": false
   },
   "outputs": [
    {
     "name": "stdout",
     "output_type": "stream",
     "text": [
      "Epoch 1/6\n",
      "5802/5802 [==============================] - 49s 8ms/step - loss: 0.2390 - accuracy: 0.9063 - val_loss: 0.1781 - val_accuracy: 0.9341\n",
      "Epoch 2/6\n",
      "5802/5802 [==============================] - 43s 7ms/step - loss: 0.1613 - accuracy: 0.9406 - val_loss: 0.1702 - val_accuracy: 0.9352\n",
      "Epoch 3/6\n",
      "5802/5802 [==============================] - 45s 8ms/step - loss: 0.1446 - accuracy: 0.9471 - val_loss: 0.1696 - val_accuracy: 0.9372\n",
      "Epoch 4/6\n",
      "5802/5802 [==============================] - 43s 7ms/step - loss: 0.1334 - accuracy: 0.9506 - val_loss: 0.1659 - val_accuracy: 0.9376\n",
      "Epoch 5/6\n",
      "5802/5802 [==============================] - 49s 8ms/step - loss: 0.1247 - accuracy: 0.9535 - val_loss: 0.1683 - val_accuracy: 0.9368\n",
      "Epoch 6/6\n",
      "5802/5802 [==============================] - 48s 8ms/step - loss: 0.1167 - accuracy: 0.9556 - val_loss: 0.1705 - val_accuracy: 0.9376\n"
     ]
    }
   ],
   "source": [
    "#Set the number of epoch as 6\n",
    "#We choose 6 instead of higher number to prevent overfitting\n",
    "\n",
    "num_epochs = 6\n",
    "history = model.fit(padded, training_labels_final, epochs=num_epochs, validation_data=(validation_padded, validation_labels_final))"
   ]
  },
  {
   "cell_type": "markdown",
   "id": "3071146f",
   "metadata": {},
   "source": [
    "# Model Accuracy and Model Loss"
   ]
  },
  {
   "cell_type": "code",
   "execution_count": 48,
   "id": "48dac8c7",
   "metadata": {},
   "outputs": [
    {
     "data": {
      "image/png": "[encoded data removed]",
      "text/plain": [
       "<Figure size 432x288 with 1 Axes>"
      ]
     },
     "metadata": {},
     "output_type": "display_data"
    },
    {
     "data": {
      "image/png": "[encoded data removed]",
      "text/plain": [
       "<Figure size 432x288 with 1 Axes>"
      ]
     },
     "metadata": {},
     "output_type": "display_data"
    }
   ],
   "source": [
    "plt.plot(history.history['accuracy'])\n",
    "plt.plot(history.history['val_accuracy'])\n",
    "plt.title('model accuracy')\n",
    "plt.ylabel('accuracy')\n",
    "plt.xlabel('epoch')\n",
    "plt.legend(['train', 'val'], loc='upper left')\n",
    "plt.show()\n",
    "\n",
    "# summarize history for loss\n",
    "plt.plot(history.history['loss'])\n",
    "plt.plot(history.history['val_loss'])\n",
    "plt.title('model loss')\n",
    "plt.ylabel('loss')\n",
    "plt.xlabel('epoch')\n",
    "plt.legend(['train', 'val'], loc='upper left')\n",
    "plt.show()"
   ]
  },
  {
   "cell_type": "markdown",
   "id": "3351e681",
   "metadata": {},
   "source": [
    "# Evaluate model"
   ]
  },
  {
   "cell_type": "code",
   "execution_count": 32,
   "id": "79a5cf59",
   "metadata": {
    "scrolled": true
   },
   "outputs": [
    {
     "name": "stdout",
     "output_type": "stream",
     "text": [
      "726/726 [==============================] - 1s 1ms/step - loss: 0.1690 - accuracy: 0.9383\n"
     ]
    },
    {
     "data": {
      "text/plain": [
       "[0.16902470588684082, 0.9383295774459839]"
      ]
     },
     "execution_count": 32,
     "metadata": {},
     "output_type": "execute_result"
    }
   ],
   "source": [
    "#Evaluate the model using testing_padded & testing_labels_final\n",
    "\n",
    "model.evaluate(testing_padded, testing_labels_final)"
   ]
  },
  {
   "cell_type": "markdown",
   "id": "d6cca399",
   "metadata": {},
   "source": [
    "# Plotting graph"
   ]
  },
  {
   "cell_type": "code",
   "execution_count": 33,
   "id": "c286a146",
   "metadata": {},
   "outputs": [
    {
     "data": {
      "image/png": "[encoded data removed]",
      "text/plain": [
       "<Figure size 432x288 with 1 Axes>"
      ]
     },
     "metadata": {},
     "output_type": "display_data"
    }
   ],
   "source": [
    "# import matplotlib.pyplot as plt\n",
    "\n",
    "acc = history.history['accuracy']\n",
    "val_acc = history.history['val_accuracy']\n",
    "loss = history.history['loss']\n",
    "val_loss = history.history['val_loss']\n",
    "\n",
    "epochs = range(1, len(acc) + 1)\n",
    "\n",
    "plt.plot(epochs, acc, 'r*', label='Training acc')\n",
    "plt.plot(epochs, val_acc, 'b', label='Validation acc')\n",
    "plt.title('Training and validation accuracy')\n",
    "plt.xlabel('Epochs')\n",
    "plt.ylabel('Loss')\n",
    "plt.legend()\n",
    "\n",
    "\n",
    "#Display the graph\n",
    "plt.show()"
   ]
  },
  {
   "cell_type": "markdown",
   "id": "c5a2fc91",
   "metadata": {},
   "source": [
    "# Model Prediction"
   ]
  },
  {
   "cell_type": "code",
   "execution_count": 34,
   "id": "ec5d0397",
   "metadata": {},
   "outputs": [
    {
     "name": "stdout",
     "output_type": "stream",
     "text": [
      "Sample sentence\n",
      "<PAD> <PAD> <PAD> <PAD> <PAD> <PAD> <PAD> <PAD> <PAD> <PAD> <PAD> <PAD> <PAD> <PAD> <PAD> <PAD> <PAD> <PAD> <PAD> <PAD> <PAD> <PAD> <PAD> <PAD> <PAD> <PAD> <PAD> <PAD> <PAD> <PAD> <PAD> <PAD> <PAD> <PAD> <PAD> <PAD> <PAD> <PAD> <PAD> <PAD> <PAD> <PAD> <PAD> <PAD> <PAD> <PAD> <PAD> <PAD> <PAD> <PAD> <PAD> <PAD> <PAD> <PAD> <PAD> <PAD> <PAD> <PAD> <PAD> <PAD> <PAD> <PAD> <PAD> <PAD> <PAD> <PAD> <PAD> <PAD> <PAD> <PAD> <PAD> <PAD> <PAD> <PAD> <PAD> <PAD> <PAD> <PAD> <PAD> <PAD> <PAD> <PAD> <PAD> <PAD> <PAD> <PAD> <PAD> <PAD> <PAD> <PAD> <PAD> <PAD> <PAD> <PAD> <PAD> <PAD> <PAD> <PAD> <PAD> <PAD> <PAD> fathers much one i fall stopped one got right something hes hard sure like they near cut work spoke\n",
      "726/726 [==============================] - 1s 1ms/step\n",
      "Predicted Probability:  [0.9710431]\n"
     ]
    }
   ],
   "source": [
    "word_index = {k:(v+3) for k,v in word_index.items()} \n",
    "word_index[\"<PAD>\"] = 0\n",
    "word_index[\"<START>\"] = 1\n",
    "word_index[\"<UNK>\"] = 2  # unknown\n",
    "word_index[\"<UNUSED>\"] = 3\n",
    "\n",
    "reverse_word_index = dict([(value, key) for (key, value) in word_index.items()])\n",
    "\n",
    "def decode_review(text):\n",
    "    return ' '.join([reverse_word_index.get(i, '?') for i in text])\n",
    "\n",
    "print(\"Sample sentence\")\n",
    "print(decode_review(testing_padded[35]))\n",
    "\n",
    "predictions = model.predict(testing_padded)  \n",
    "\n",
    "#Convert the float into integers\n",
    "prediction = [None] * len(predictions)\n",
    "i = 0\n",
    "j = 0\n",
    "for x in range(len(predictions)):\n",
    "    for y in range(len(predictions[x])):\n",
    "        if predictions[x][y] < 0.5:\n",
    "            prediction[i] = 0\n",
    "        else:\n",
    "            prediction[i] = 1\n",
    "        i += 1\n",
    "       \n",
    "\n",
    "# predictionsTrain = model.predict(padded)\n",
    "print(\"Predicted Probability: \", predictions[35])"
   ]
  },
  {
   "cell_type": "markdown",
   "id": "d077012f",
   "metadata": {},
   "source": [
    "# Save model"
   ]
  },
  {
   "cell_type": "code",
   "execution_count": 92,
   "id": "90a838aa",
   "metadata": {},
   "outputs": [],
   "source": [
    "#Save model into model_depressed.h5\n",
    "model.save(\"model_depressed_2.h5\")"
   ]
  },
  {
   "cell_type": "markdown",
   "id": "84f973f5",
   "metadata": {},
   "source": [
    "# Load saved model"
   ]
  },
  {
   "cell_type": "code",
   "execution_count": 35,
   "id": "31e98a84",
   "metadata": {},
   "outputs": [
    {
     "name": "stdout",
     "output_type": "stream",
     "text": [
      "726/726 [==============================] - 1s 1ms/step - loss: 0.1702 - accuracy: 0.9385\n"
     ]
    },
    {
     "data": {
      "text/plain": [
       "[0.1701848953962326, 0.9385019540786743]"
      ]
     },
     "execution_count": 35,
     "metadata": {},
     "output_type": "execute_result"
    }
   ],
   "source": [
    "# import tensorflow as tf\n",
    "new_model = tf.keras.models.load_model(\"model_depressed_2.h5\")\n",
    "\n",
    "#Evaluate the saved model\n",
    "new_model.evaluate(testing_padded, testing_labels_final)"
   ]
  },
  {
   "cell_type": "markdown",
   "id": "93800e43",
   "metadata": {},
   "source": [
    "# Saved model prediction"
   ]
  },
  {
   "cell_type": "code",
   "execution_count": 36,
   "id": "0b6a6090",
   "metadata": {
    "scrolled": false
   },
   "outputs": [
    {
     "name": "stdout",
     "output_type": "stream",
     "text": [
      "726/726 [==============================] - 1s 1ms/step\n",
      "Predicted Probability:  [0.97395307]\n"
     ]
    }
   ],
   "source": [
    "#Predict the outcome (probability) using the testing set (testing_padded)\n",
    "\n",
    "new_predictions = new_model.predict(testing_padded)\n",
    "print(\"Predicted Probability: \", new_predictions[35])\n"
   ]
  },
  {
   "cell_type": "markdown",
   "id": "9a59239f",
   "metadata": {},
   "source": [
    "# Confusion Matrix"
   ]
  },
  {
   "cell_type": "code",
   "execution_count": 50,
   "id": "478a70c8",
   "metadata": {
    "scrolled": false
   },
   "outputs": [
    {
     "data": {
      "text/plain": [
       "(<Figure size 432x288 with 1 Axes>,\n",
       " <AxesSubplot:xlabel='predicted label', ylabel='true label'>)"
      ]
     },
     "execution_count": 50,
     "metadata": {},
     "output_type": "execute_result"
    },
    {
     "data": {
      "image/png": "[encoded data removed]",
      "text/plain": [
       "<Figure size 432x288 with 1 Axes>"
      ]
     },
     "metadata": {},
     "output_type": "display_data"
    }
   ],
   "source": [
    "#import module mlxtend\n",
    "from mlxtend.plotting import plot_confusion_matrix\n",
    "from sklearn.metrics import confusion_matrix\n",
    "\n",
    "mat = confusion_matrix(test_label,prediction)\n",
    "plot_confusion_matrix(conf_mat = mat)"
   ]
  },
  {
   "cell_type": "markdown",
   "id": "bcdc5ca5",
   "metadata": {},
   "source": [
    "# Evaluation Metrics"
   ]
  },
  {
   "cell_type": "code",
   "execution_count": 52,
   "id": "9ea70a2a",
   "metadata": {},
   "outputs": [
    {
     "name": "stdout",
     "output_type": "stream",
     "text": [
      "------------Evaluation Metrics------------\n",
      "Accuracy    : 0.9383\n",
      "\n",
      "Precision   : 0.9319\n",
      "\n",
      "Recall      : 0.9455\n",
      "\n",
      "F1 Score    : 0.9387\n",
      "\n",
      "auc_score   : 0.9383\n",
      "\n",
      "Log Loss    : 2.1300\n"
     ]
    }
   ],
   "source": [
    "from sklearn.metrics import precision_score, recall_score, f1_score, accuracy_score, roc_auc_score, log_loss  \n",
    "\n",
    "print('------------Evaluation Metrics------------')\n",
    "\n",
    "print('Accuracy    : %.4f' % accuracy_score(test_label,prediction))\n",
    "print()\n",
    "\n",
    "print('Precision   : %.4f' % precision_score(test_label,prediction))\n",
    "print()\n",
    "\n",
    "print('Recall      : %.4f' % recall_score(test_label,prediction))\n",
    "print()\n",
    "\n",
    "print('F1 Score    : %.4f' % f1_score(test_label,prediction))\n",
    "print()\n",
    "\n",
    "print('auc_score   : %.4f' % roc_auc_score(test_label,prediction))\n",
    "print()\n",
    "\n",
    "print('Log Loss    : %.4f' % log_loss(test_label,prediction))"
   ]
  },
  {
   "cell_type": "markdown",
   "id": "3c892eb8",
   "metadata": {},
   "source": [
    "# Input random text for prediction"
   ]
  },
  {
   "cell_type": "code",
   "execution_count": 39,
   "id": "1587fdd7",
   "metadata": {},
   "outputs": [
    {
     "name": "stdout",
     "output_type": "stream",
     "text": [
      "1/1 [==============================] - 0s 22ms/step\n"
     ]
    },
    {
     "data": {
      "text/plain": [
       "array([[0.31097168],\n",
       "       [0.88538426],\n",
       "       [0.03178994]], dtype=float32)"
      ]
     },
     "execution_count": 39,
     "metadata": {},
     "output_type": "execute_result"
    }
   ],
   "source": [
    "#Initiate sentences list by assigned some sentences\n",
    "\n",
    "sentences = [\n",
    "    \"i am so sad today, i m going to die\",\n",
    "    \"Ex Wife Threatening SuicideRecently I left my wife for good because she has cheated on me twice and lied to me so much that I have decided to refuse to go back to her. As of a few days ago, she began threatening suicide. I have tirelessly spent these paat few days talking her out of it and she keeps hesitating because she wants to believe I'll come back. I know a lot of people will threaten this in order to get their way, but what happens if she really does? What do I do and how am I supposed to handle her death on my hands? I still love my wife but I cannot deal with getting cheated on again and constantly feeling insecure. I'm worried today may be the day she does it and I hope so much it doesn't happen.\",\n",
    "    \"Guys I want friends Thatâ€™s it , Iâ€™m alone and donâ€™t talk to anyone dm me or anything, Iâ€™m just tired of only talking to my dad and sister, literally only my dad and sister , I like animated series but Iâ€™m flexible to anything the last series I watch was Santa Claritaâ€™s diet and the last animated series I watch was the hollow and shera ( I was watching them at the same time ), and I have a very extended music repertoire I can draw you anything you ask ( or at least Iâ€™ll try ) you can text me at any hour of the day , I pretty much only do that , I have weird family anecdotes and stories I can tell you  , but if you are not interested in anything I mentioned it doesnâ€™t matter Iâ€™m just here to be a friend\"\n",
    "]\n",
    "\n",
    "#Tokennize the sentences list and convert it into sequences\n",
    "\n",
    "new_sentences = tokenizer.texts_to_sequences(sentences)\n",
    "\n",
    "new_padded = pad_sequences(new_sentences, maxlen=max_length)\n",
    "\n",
    "#Predict the outcome (probability) by using new_padded\n",
    "new_model.predict(new_padded)"
   ]
  },
  {
   "cell_type": "code",
   "execution_count": null,
   "id": "33cec7ec",
   "metadata": {},
   "outputs": [],
   "source": []
  }
 ],
 "metadata": {
  "kernelspec": {
   "display_name": "Python 3 (ipykernel)",
   "language": "python",
   "name": "python3"
  },
  "language_info": {
   "codemirror_mode": {
    "name": "ipython",
    "version": 3
   },
   "file_extension": ".py",
   "mimetype": "text/x-python",
   "name": "python",
   "nbconvert_exporter": "python",
   "pygments_lexer": "ipython3",
   "version": "3.9.7"
  }
 },
 "nbformat": 4,
 "nbformat_minor": 5
}
